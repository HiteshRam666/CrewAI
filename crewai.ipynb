{
 "cells": [
  {
   "cell_type": "code",
   "execution_count": 3,
   "id": "c8314c89",
   "metadata": {},
   "outputs": [
    {
     "data": {
      "text/plain": [
       "True"
      ]
     },
     "execution_count": 3,
     "metadata": {},
     "output_type": "execute_result"
    }
   ],
   "source": [
    "import os \n",
    "from dotenv import load_dotenv \n",
    "from openai import OpenAI\n",
    "load_dotenv()"
   ]
  },
  {
   "cell_type": "code",
   "execution_count": 4,
   "id": "3d60229f",
   "metadata": {},
   "outputs": [],
   "source": [
    "client = OpenAI(api_key=os.environ.get(\"OPENAI_API_KEY\"))"
   ]
  },
  {
   "cell_type": "code",
   "execution_count": 16,
   "id": "3b020b9b",
   "metadata": {},
   "outputs": [],
   "source": [
    "from crewai import Agent, Crew, Task"
   ]
  },
  {
   "cell_type": "code",
   "execution_count": 18,
   "id": "c2f7483f",
   "metadata": {},
   "outputs": [],
   "source": [
    "# Simple Agent\n",
    "agent1 = Agent(\n",
    "    name = \"Researcher\", \n",
    "    description = \"An AI agent that researches and gathers information\", \n",
    "    goal = \"Find relevant information on the given topic\", \n",
    "    role = \"Researcher\", \n",
    "    backstory=\"An AI assistant designed for research tasks.\"\n",
    ")"
   ]
  },
  {
   "cell_type": "code",
   "execution_count": 19,
   "id": "ea7ad1b4",
   "metadata": {},
   "outputs": [],
   "source": [
    "# Simple task \n",
    "research_task = Task(\n",
    "    name = \"Research Task\", \n",
    "    description=\"Search latest advancement of AI and summarize them\", \n",
    "    agent = agent1, \n",
    "    expected_output=\"A summary of the latest advancements of AI\" \n",
    ")"
   ]
  },
  {
   "cell_type": "code",
   "execution_count": 20,
   "id": "99535576",
   "metadata": {},
   "outputs": [
    {
     "data": {
      "text/plain": [
       "CrewOutput(raw=\"1. **Generative AI Models**: The development of generative AI models, particularly transformer-based architectures, has made significant strides. Notable advancements include OpenAI's GPT-4 and Google's PaLM (Pathways Language Model). These models exhibit remarkable capabilities in natural language processing, including text generation, translation, and summarization. The integration of larger datasets and improved training techniques has enhanced context understanding and coherence in AI-generated content.\\n\\n2. **AI in Healthcare**: There has been a surge in using AI algorithms to analyze medical data for diagnostic purposes. Systems are being developed that can predict diseases like Alzheimer's and various cancers through genetic and imaging data analysis. AI tools have also been increasingly utilized in medical research, drug discovery, and personalized medicine, leading to more efficient and targeted treatment plans.\\n\\n3. **Computer Vision Innovations**: Vision models such as OpenAI's CLIP and DALL-E have revolutionized how machines interpret and generate images. With improved training methods, computer vision systems now perform with greater accuracy in tasks such as facial recognition, object detection, and scene understanding. AI applications in autonomous vehicles and surveillance systems have also benefited from these advancements.\\n\\n4. **AI Ethics and Governance**: As AI technologies continue to evolve, the focus on ethical considerations and governance has intensified. Organizations and governments worldwide are beginning to implement regulations to ensure AI's responsible use. Efforts towards transparent AI, bias mitigation, and accountability in algorithmic decision-making have become key topics of discussion among researchers, practitioners, and policymakers.\\n\\n5. **AI in Robotics**: The integration of AI in robotics has seen notable advancements, especially in robot learning and adaptability. Robots are increasingly equipped with deep learning capabilities that allow them to learn from their environment and optimize their operations. Applications range from manufacturing and logistics to personal assistants and service robots.\\n\\n6. **Reinforcement Learning Breakthroughs**: In reinforcement learning, recent breakthroughs have allowed AI systems to achieve superhuman performance in complex environments, such as competitive gaming and robotic tasks. These advancements are paving the way for AI applications in automated decision-making systems, financial modeling, and strategic planning.\\n\\n7. **Natural Language Understanding (NLU)**: Recent improvements in NLU have led to more sophisticated dialogue systems and virtual assistants. Enhanced capabilities in understanding context, sentiment, and intent enable a better user experience and more effective communication between humans and machines.\\n\\n8. **AI in Climate Science**: The application of AI in climate modeling and environmental monitoring has expanded, assisting scientists in predicting climate patterns and natural disasters with greater accuracy. Advanced algorithms are being utilized to analyze large datasets from satellites and sensors, facilitating more effective conservation and resource management efforts.\\n\\nThese advancements illustrate the rapid progress being made in AI across various sectors. As researchers continue to explore the capabilities of AI, both the opportunities and challenges associated with these technologies will evolve, prompting ongoing discussion regarding their implications for society.\", pydantic=None, json_dict=None, tasks_output=[TaskOutput(description='Search latest advancement of AI and summarize them', name='Research Task', expected_output='A summary of the latest advancements of AI', summary='Search latest advancement of AI and summarize them...', raw=\"1. **Generative AI Models**: The development of generative AI models, particularly transformer-based architectures, has made significant strides. Notable advancements include OpenAI's GPT-4 and Google's PaLM (Pathways Language Model). These models exhibit remarkable capabilities in natural language processing, including text generation, translation, and summarization. The integration of larger datasets and improved training techniques has enhanced context understanding and coherence in AI-generated content.\\n\\n2. **AI in Healthcare**: There has been a surge in using AI algorithms to analyze medical data for diagnostic purposes. Systems are being developed that can predict diseases like Alzheimer's and various cancers through genetic and imaging data analysis. AI tools have also been increasingly utilized in medical research, drug discovery, and personalized medicine, leading to more efficient and targeted treatment plans.\\n\\n3. **Computer Vision Innovations**: Vision models such as OpenAI's CLIP and DALL-E have revolutionized how machines interpret and generate images. With improved training methods, computer vision systems now perform with greater accuracy in tasks such as facial recognition, object detection, and scene understanding. AI applications in autonomous vehicles and surveillance systems have also benefited from these advancements.\\n\\n4. **AI Ethics and Governance**: As AI technologies continue to evolve, the focus on ethical considerations and governance has intensified. Organizations and governments worldwide are beginning to implement regulations to ensure AI's responsible use. Efforts towards transparent AI, bias mitigation, and accountability in algorithmic decision-making have become key topics of discussion among researchers, practitioners, and policymakers.\\n\\n5. **AI in Robotics**: The integration of AI in robotics has seen notable advancements, especially in robot learning and adaptability. Robots are increasingly equipped with deep learning capabilities that allow them to learn from their environment and optimize their operations. Applications range from manufacturing and logistics to personal assistants and service robots.\\n\\n6. **Reinforcement Learning Breakthroughs**: In reinforcement learning, recent breakthroughs have allowed AI systems to achieve superhuman performance in complex environments, such as competitive gaming and robotic tasks. These advancements are paving the way for AI applications in automated decision-making systems, financial modeling, and strategic planning.\\n\\n7. **Natural Language Understanding (NLU)**: Recent improvements in NLU have led to more sophisticated dialogue systems and virtual assistants. Enhanced capabilities in understanding context, sentiment, and intent enable a better user experience and more effective communication between humans and machines.\\n\\n8. **AI in Climate Science**: The application of AI in climate modeling and environmental monitoring has expanded, assisting scientists in predicting climate patterns and natural disasters with greater accuracy. Advanced algorithms are being utilized to analyze large datasets from satellites and sensors, facilitating more effective conservation and resource management efforts.\\n\\nThese advancements illustrate the rapid progress being made in AI across various sectors. As researchers continue to explore the capabilities of AI, both the opportunities and challenges associated with these technologies will evolve, prompting ongoing discussion regarding their implications for society.\", pydantic=None, json_dict=None, agent='Researcher', output_format=<OutputFormat.RAW: 'raw'>)], token_usage=UsageMetrics(total_tokens=767, prompt_tokens=175, cached_prompt_tokens=0, completion_tokens=592, successful_requests=1))"
      ]
     },
     "execution_count": 20,
     "metadata": {},
     "output_type": "execute_result"
    }
   ],
   "source": [
    "# Initialize a crew \n",
    "crew = Crew(agents=[agent1], tasks=[research_task])\n",
    "crew.kickoff()"
   ]
  },
  {
   "cell_type": "code",
   "execution_count": 26,
   "id": "374ad6a4",
   "metadata": {},
   "outputs": [],
   "source": [
    "# LLM calling\n",
    "from crewai import LLM \n",
    "\n",
    "llm = LLM(\n",
    "    model=\"gpt-4o-mini\", \n",
    "    temperature=0.7, \n",
    "    timeout=120, \n",
    "    max_tokens=4000, \n",
    "    top_p=0.9, \n",
    "    frequency_penalty=0.1, \n",
    "    presence_penalty=0.1, \n",
    "    response_format={\"type\": \"json\"}, \n",
    "    seed = 42\n",
    ")"
   ]
  },
  {
   "cell_type": "code",
   "execution_count": null,
   "id": "1dee83ee",
   "metadata": {},
   "outputs": [],
   "source": []
  }
 ],
 "metadata": {
  "kernelspec": {
   "display_name": "venv",
   "language": "python",
   "name": "python3"
  },
  "language_info": {
   "codemirror_mode": {
    "name": "ipython",
    "version": 3
   },
   "file_extension": ".py",
   "mimetype": "text/x-python",
   "name": "python",
   "nbconvert_exporter": "python",
   "pygments_lexer": "ipython3",
   "version": "3.10.11"
  }
 },
 "nbformat": 4,
 "nbformat_minor": 5
}
